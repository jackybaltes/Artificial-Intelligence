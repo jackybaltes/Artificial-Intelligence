{
 "cells": [
  {
   "cell_type": "markdown",
   "metadata": {},
   "source": [
    "# The Farmer, Wolf, Cabbage, and Sheep Puzzle\n",
    "\n",
    "This is a well known puzzle. A farmer is on the side of the river with his wolf, cabbage, and sheep. On the bank of the river is a small boat which can hold the farmer and only one more item (e.g., sheep, wolf, or cabbage). \n",
    "\n",
    "If the farmer leaves the wolf and the sheep on one side of the river alone, then the wolf will eat the sheep. Similarly, the sheep will eat the cabbage if the farmer is not there to stop it.\n",
    "\n",
    "Help the farmer reach the other side of the river with his wolf, sheep, and cabbage intact."
   ]
  },
  {
   "cell_type": "markdown",
   "metadata": {},
   "source": [
    "## Representation\n",
    "\n",
    "First let us consider this problem from an Artificial Intelligence perspective. How do we represent the state space? What are the actions that we can perform in this domain?\n",
    "\n",
    "### State Space\n",
    "\n",
    "The state space representation must encapsulate all important information about the domain. In this case, the only thing that matters what side of the river the various items are on.\n",
    "\n",
    "So we may consider a simple dictionary with items and which side of the river they are on.\n",
    "\n",
    "```\n",
    "state = { 'wolf': 'left', 'sheep':'right', 'cabbage':'left', 'farmer':'left' }\n",
    "```"
   ]
  },
  {
   "cell_type": "code",
   "execution_count": 12,
   "metadata": {
    "collapsed": true
   },
   "outputs": [],
   "source": [
    "initial = { 'wolf': 'left', 'sheep':'left', 'cabbage':'left', 'farmer':'left' }"
   ]
  },
  {
   "cell_type": "markdown",
   "metadata": {},
   "source": [
    "### IsGoal Predicate\n",
    "\n",
    "We need to write a function that checks if we have found a solution. In this case, we need to check if wolf, goat, sheep, and farmer are all on the right side of the river."
   ]
  },
  {
   "cell_type": "code",
   "execution_count": 13,
   "metadata": {
    "collapsed": true
   },
   "outputs": [],
   "source": [
    "def isGoal( state ):\n",
    "    return ( ( state['farmer'] == 'right') \n",
    "            and ( state['wolf'] == 'right') \n",
    "            and ( state['cabbage'] == 'right')  \n",
    "            and ( state['sheep'] == 'right') )"
   ]
  },
  {
   "cell_type": "markdown",
   "metadata": {},
   "source": [
    "### Sucessor Function\n",
    "\n",
    "Now I define a function that generates all possible successors (children) for a given state. What I need to record is the children state, but also the action that I applied to reach this state.\n",
    "\n",
    "So I define a successor function as well as a couple of utility functions."
   ]
  },
  {
   "cell_type": "markdown",
   "metadata": {},
   "source": [
    "def otherSide( side ):\n",
    "    other = '?'\n",
    "    if ( side == 'left' ):\n",
    "        other = 'right'\n",
    "    elif ( side == 'right' ):\n",
    "        other = 'left'\n",
    "    return other\n",
    "        \n",
    "def successors( state ):\n",
    "    farmerSide=state['farmer']\n",
    "    children = []\n",
    "    for k in state:\n",
    "        if ( state[k] == farmerSide ):\n",
    "            newState = state.copy()\n",
    "            newState[k] = otherSide( farmerSide )\n",
    "            newState['farmer'] = otherSide( farmerSide )\n",
    "            children = children + [ (newState, \"move \" + k + \" to \" + otherSide( farmerSide ) ) ]\n",
    "    return children\n",
    "\n",
    "print( 'Successors of state', initial, 'are', successors( initial ) )\n",
    "s = { 'wolf': 'left', 'sheep':'right', 'cabbage':'left', 'farmer':'right' }\n",
    "print( 'Successors of state', s, 'are', successors( s ) )"
   ]
  },
  {
   "cell_type": "markdown",
   "metadata": {},
   "source": [
    "### Checking for invalid States\n",
    "\n",
    "The successor function so far does not check if a state is illegal. So we need to add a check for invalid states (e.g., wolf and sheep on left side and farmer is on the right side)."
   ]
  },
  {
   "cell_type": "code",
   "execution_count": 29,
   "metadata": {},
   "outputs": [
    {
     "name": "stdout",
     "output_type": "stream",
     "text": [
      "Successors of state {'wolf': 'left', 'sheep': 'left', 'cabbage': 'left', 'farmer': 'left'} are [({'wolf': 'left', 'sheep': 'right', 'cabbage': 'left', 'farmer': 'right'}, 'move sheep to right')]\n",
      "Successors of state {'wolf': 'left', 'sheep': 'right', 'cabbage': 'left', 'farmer': 'right'} are [({'wolf': 'left', 'sheep': 'left', 'cabbage': 'left', 'farmer': 'left'}, 'move sheep to left'), ({'wolf': 'left', 'sheep': 'right', 'cabbage': 'left', 'farmer': 'left'}, 'move farmer to left')]\n"
     ]
    }
   ],
   "source": [
    "def isValidState( state ):\n",
    "    valid = True\n",
    "    checkSide = otherSide( state['farmer'] )\n",
    "    if ( state['wolf'] == checkSide ) and ( state['sheep'] == checkSide ):\n",
    "        valid = False\n",
    "    elif ( state['sheep'] == checkSide ) and ( state['cabbage'] == checkSide ):\n",
    "        valid = False\n",
    "    return valid\n",
    "\n",
    "def successors( state ):\n",
    "    farmerSide=state['farmer']\n",
    "    children = []\n",
    "    for k in state:\n",
    "        if ( state[k] == farmerSide ):\n",
    "            newState = state.copy()\n",
    "            newState[k] = otherSide( farmerSide )\n",
    "            newState['farmer'] = otherSide( farmerSide )\n",
    "            if ( isValidState( newState ) ):\n",
    "                children = children + [ (newState, \"move \" + k + \" to \" + otherSide( farmerSide ) ) ]\n",
    "    return children\n",
    "\n",
    "print( 'Successors of state', initial, 'are', successors( initial ) )\n",
    "s = { 'wolf': 'left', 'sheep':'right', 'cabbage':'left', 'farmer':'right' }\n",
    "print( 'Successors of state', s, 'are', successors( s ) )\n"
   ]
  },
  {
   "cell_type": "markdown",
   "metadata": {},
   "source": [
    "## Search\n",
    "\n",
    "Now it is time to implement a search routine for this domain. We will implement three methods\n",
    "\n",
    "    1.) Depth First Search\n",
    "    2.) Breadth First Search\n",
    "    3.) Iterative Deepening Depth First Search\n",
    "    \n",
    "### Depth First Search\n",
    "\n",
    "Depth first search starts at the initial state, and calculates the successors (i.e., expands the node). Then it will pick the first child and expand it. Then the process will continue recursively by expanding the first child. \n",
    "\n",
    "If there are no more children left for a node, then the search will backtrack and expand the next child on the level above.\n",
    "\n",
    "Depth First Search lends itself to a recursive implementation, but to make it more conistent with the other search methods, I use a iterative approach with a queue. \n",
    "\n",
    "I am cheating a little bit here because the we will expand the last child generated first, rather than the first child.\n",
    "\n",
    "I also include a depth limit, which will come in handy when we are dealing with iterative deepening depth first search."
   ]
  },
  {
   "cell_type": "code",
   "execution_count": 31,
   "metadata": {
    "collapsed": true
   },
   "outputs": [],
   "source": [
    "def DFsearch( initial, depthLimit = 0, log = False ):\n",
    "    queue = [ ( initial, 0, [initial], ['*** initial ***'] ) ]\n",
    "    result = None\n",
    "    numNodes = 1\n",
    "    while( len(queue) > 0 ):\n",
    "        state, level, history, actions = queue.pop()\n",
    "        if ( depthLimit <= 0 ) or ( level < depthLimit ):\n",
    "            if ( isGoal( state ) ):\n",
    "                result = ( state, history, actions + [ '*** goal ***' ], numNodes )\n",
    "                break\n",
    "            children = successors( state )\n",
    "            for ns, na in children:\n",
    "                if ( ns not in history ):\n",
    "                    node = ( ns, level+1, history + [ ns], actions + [na] )\n",
    "                    queue.insert( len(queue), node )\n",
    "                    numNodes = numNodes + 1\n",
    "    if result is None:\n",
    "        result = [ numNodes ]\n",
    "    return result\n"
   ]
  },
  {
   "cell_type": "code",
   "execution_count": 32,
   "metadata": {},
   "outputs": [
    {
     "data": {
      "text/plain": [
       "({'cabbage': 'right', 'farmer': 'right', 'sheep': 'right', 'wolf': 'right'},\n",
       " [{'cabbage': 'left', 'farmer': 'left', 'sheep': 'left', 'wolf': 'left'},\n",
       "  {'cabbage': 'left', 'farmer': 'right', 'sheep': 'right', 'wolf': 'left'},\n",
       "  {'cabbage': 'left', 'farmer': 'left', 'sheep': 'right', 'wolf': 'left'},\n",
       "  {'cabbage': 'right', 'farmer': 'right', 'sheep': 'right', 'wolf': 'left'},\n",
       "  {'cabbage': 'right', 'farmer': 'left', 'sheep': 'left', 'wolf': 'left'},\n",
       "  {'cabbage': 'right', 'farmer': 'right', 'sheep': 'left', 'wolf': 'right'},\n",
       "  {'cabbage': 'right', 'farmer': 'left', 'sheep': 'left', 'wolf': 'right'},\n",
       "  {'cabbage': 'right', 'farmer': 'right', 'sheep': 'right', 'wolf': 'right'}],\n",
       " ['*** initial ***',\n",
       "  'move sheep to right',\n",
       "  'move farmer to left',\n",
       "  'move cabbage to right',\n",
       "  'move sheep to left',\n",
       "  'move wolf to right',\n",
       "  'move farmer to left',\n",
       "  'move sheep to right',\n",
       "  '*** goal ***'],\n",
       " 10)"
      ]
     },
     "execution_count": 32,
     "metadata": {},
     "output_type": "execute_result"
    }
   ],
   "source": [
    "DFsearch( initial, -1, False )"
   ]
  },
  {
   "cell_type": "code",
   "execution_count": 33,
   "metadata": {},
   "outputs": [
    {
     "data": {
      "text/plain": [
       "[7]"
      ]
     },
     "execution_count": 33,
     "metadata": {},
     "output_type": "execute_result"
    }
   ],
   "source": [
    "DFsearch( initial, 4, False )"
   ]
  },
  {
   "cell_type": "markdown",
   "metadata": {},
   "source": [
    "### Iterative Deepening Depth First Search\n",
    "\n",
    "Since my `DFsearch` routine alreadys allows the use of a depth limit, it is easy to implement a wrapper that will manage the depth limit and raises it, if no solution is found."
   ]
  },
  {
   "cell_type": "code",
   "execution_count": 42,
   "metadata": {},
   "outputs": [],
   "source": [
    "def IDDFsearch( initial, maxLevel = 1000, log = False):\n",
    "    numNodes = 0\n",
    "    result = None\n",
    "    for level in range( 1, maxLevel ):\n",
    "        result = DFsearch( initial, level, log )\n",
    "        if ( log ):\n",
    "            print( result )\n",
    "        if ( len( result ) == 4 ):\n",
    "            goal, hist, actions, levelNumNodes = result\n",
    "            result = ( goal, hist, actions, numNodes + levelNumNodes )\n",
    "            break\n",
    "        else:\n",
    "            levelNumNodes = result[0]\n",
    "            numNodes = numNodes + levelNumNodes\n",
    "    if ( result is None ):\n",
    "        result = ( numNodes )\n",
    "    return result\n",
    "        "
   ]
  },
  {
   "cell_type": "code",
   "execution_count": 43,
   "metadata": {},
   "outputs": [
    {
     "data": {
      "text/plain": [
       "({'cabbage': 'right', 'farmer': 'right', 'sheep': 'right', 'wolf': 'right'},\n",
       " [{'cabbage': 'left', 'farmer': 'left', 'sheep': 'left', 'wolf': 'left'},\n",
       "  {'cabbage': 'left', 'farmer': 'right', 'sheep': 'right', 'wolf': 'left'},\n",
       "  {'cabbage': 'left', 'farmer': 'left', 'sheep': 'right', 'wolf': 'left'},\n",
       "  {'cabbage': 'right', 'farmer': 'right', 'sheep': 'right', 'wolf': 'left'},\n",
       "  {'cabbage': 'right', 'farmer': 'left', 'sheep': 'left', 'wolf': 'left'},\n",
       "  {'cabbage': 'right', 'farmer': 'right', 'sheep': 'left', 'wolf': 'right'},\n",
       "  {'cabbage': 'right', 'farmer': 'left', 'sheep': 'left', 'wolf': 'right'},\n",
       "  {'cabbage': 'right', 'farmer': 'right', 'sheep': 'right', 'wolf': 'right'}],\n",
       " ['*** initial ***',\n",
       "  'move sheep to right',\n",
       "  'move farmer to left',\n",
       "  'move cabbage to right',\n",
       "  'move sheep to left',\n",
       "  'move wolf to right',\n",
       "  'move farmer to left',\n",
       "  'move sheep to right',\n",
       "  '*** goal ***'],\n",
       " 66)"
      ]
     },
     "execution_count": 43,
     "metadata": {},
     "output_type": "execute_result"
    }
   ],
   "source": [
    "IDDFsearch( initial, 20 )"
   ]
  },
  {
   "cell_type": "code",
   "execution_count": null,
   "metadata": {
    "collapsed": true
   },
   "outputs": [],
   "source": []
  }
 ],
 "metadata": {
  "kernelspec": {
   "display_name": "Python 3",
   "language": "python",
   "name": "python3"
  },
  "language_info": {
   "codemirror_mode": {
    "name": "ipython",
    "version": 3
   },
   "file_extension": ".py",
   "mimetype": "text/x-python",
   "name": "python",
   "nbconvert_exporter": "python",
   "pygments_lexer": "ipython3",
   "version": "3.6.3"
  }
 },
 "nbformat": 4,
 "nbformat_minor": 2
}
