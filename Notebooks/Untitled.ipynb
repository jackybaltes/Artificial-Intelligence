{
 "cells": [
  {
   "cell_type": "markdown",
   "metadata": {},
   "source": [
    "# A* Search Algorithm\n",
    "\n",
    "A review of the important components of an A* search algorithm.\n",
    "\n",
    "   1. *Cost function*: A* search can use a cost function. The cost function is accurate as it is usually easy to evaluate the cost of the path taken (e.g., distance in km traveled so far).\n",
    "   1. *Heuristic function*: A heuristic function is an estimate of the cost from the current node to the nearest goal. In A* search, the heuristic function *h(n)* must be *admissible*, that is, *h(n)* will always be less than or equal to the real distance to the nearest solution. Since using an *admissible heuristic*, A* is guaranteed to find the optimal solution.\n",
    "   1. *Queue order*: The search queue is ordered based on the total cost of a node, defined as *f(n) = g(root -> n) + h( n -> nearest solution)*.\n",
    "   1. *Iterative Deepening*: One drawback of A* search is that the number of nodes in the queue may grow exponentially, which limits its applicability to small problems. Iterative deepening based on the current expanded cost so far may be used to reduce the memory consumption, but will increase the runtime. The algorithm will still find the optimal solution. \n",
    "   \n",
    "   \n",
    "   \n",
    "   \n",
    "   "
   ]
  },
  {
   "cell_type": "code",
   "execution_count": null,
   "metadata": {},
   "outputs": [],
   "source": []
  }
 ],
 "metadata": {
  "kernelspec": {
   "display_name": "Python 3",
   "language": "python",
   "name": "python3"
  },
  "language_info": {
   "codemirror_mode": {
    "name": "ipython",
    "version": 3
   },
   "file_extension": ".py",
   "mimetype": "text/x-python",
   "name": "python",
   "nbconvert_exporter": "python",
   "pygments_lexer": "ipython3",
   "version": "3.6.3"
  }
 },
 "nbformat": 4,
 "nbformat_minor": 2
}
