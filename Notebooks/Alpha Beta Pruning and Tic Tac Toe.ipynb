{
 "cells": [
  {
   "cell_type": "markdown",
   "metadata": {},
   "source": [
    "# Alpha - Beta Pruning and Tic Tac Toe\n",
    "\n",
    "This notebook investigates the impact of alpha beta pruning on the game of Tic Tac Toe."
   ]
  },
  {
   "cell_type": "code",
   "execution_count": 1,
   "metadata": {
    "collapsed": true
   },
   "outputs": [],
   "source": [
    "EMPTY = '_'\n",
    "NOUGHT = 'o'\n",
    "CROSS = 'x'\n",
    "\n",
    "initial = [ [ EMPTY, EMPTY, EMPTY ],\n",
    "            [ EMPTY, EMPTY, EMPTY ],\n",
    "            [ EMPTY, EMPTY, EMPTY ]\n",
    "          ]"
   ]
  },
  {
   "cell_type": "code",
   "execution_count": 2,
   "metadata": {
    "collapsed": true
   },
   "outputs": [],
   "source": [
    "WIN = +1\n",
    "LOOSE = -1\n",
    "DRAW = 0\n",
    "\n",
    "def calcEmpty( state ):\n",
    "    count = 0\n",
    "    for i in range( len(state) ):\n",
    "        for j in range( len(state[i])):\n",
    "            if ( state[i][j] == EMPTY ):\n",
    "                count = count + 1\n",
    "    return count\n",
    "\n",
    "def isComplete( state ):\n",
    "    return calcEmpty(state) == 0\n",
    "\n",
    "def isTerminal( state ):\n",
    "    return ( evaluate( state ) is not None )\n",
    "\n",
    "def isWin( player, state ):\n",
    "    width, height = len(state[0]), len( state )\n",
    "    # Check rows\n",
    "    for i in range( height ):\n",
    "        tmp = True\n",
    "        for j in range( width ):\n",
    "            if ( state[i][j] != player ):\n",
    "                tmp = False\n",
    "                break\n",
    "        if ( tmp ):\n",
    "            return True\n",
    "    \n",
    "    # Check columns\n",
    "    for j in range( width ):\n",
    "        tmp = True\n",
    "        for i in range( height ):\n",
    "            if ( state[i][j] != player ):\n",
    "                tmp = False\n",
    "                break\n",
    "        if ( tmp ):\n",
    "            return True\n",
    "        \n",
    "    # Check diagonal\n",
    "    if ( width >= height ):\n",
    "        # 3 rows, 5 columns\n",
    "        limit = height\n",
    "        for offset in range( width - limit + 1):\n",
    "            tmp = True\n",
    "            for d in range( limit ):\n",
    "                if ( state[d][d+offset] != player ):\n",
    "                    tmp = False\n",
    "                    break\n",
    "            if ( tmp ):\n",
    "                return True\n",
    "            tmp = True\n",
    "            for d in range( limit ):\n",
    "                if ( state[height - 1 - d][d+offset] != player ):\n",
    "                    tmp = False\n",
    "                    break\n",
    "            if ( tmp ):\n",
    "                return True\n",
    "    else:\n",
    "        # 5 rows, 3 columns\n",
    "        limit = width\n",
    "        for offset in range( height - limit + 1):\n",
    "            tmp = True\n",
    "            for d in range( limit ):\n",
    "                if ( state[d+offset][d] != player ):\n",
    "                    tmp = False\n",
    "                    break\n",
    "            if ( tmp ):\n",
    "                return True\n",
    "            tmp = True\n",
    "            for d in range( limit ):\n",
    "                if ( state[d+offset][width-1-d] != player ):\n",
    "                    tmp = False\n",
    "                    break\n",
    "            if ( tmp ):\n",
    "                return True\n",
    "    return False\n",
    "\n",
    "def evaluate( state ):\n",
    "    result = None\n",
    "    if ( isWin( CROSS, state ) ):\n",
    "        result = WIN\n",
    "    elif (isWin( NOUGHT, state ) ):\n",
    "        result = LOOSE\n",
    "    elif ( isComplete( state ) ):\n",
    "        result = DRAW\n",
    "    return result"
   ]
  },
  {
   "cell_type": "code",
   "execution_count": 3,
   "metadata": {
    "collapsed": true
   },
   "outputs": [],
   "source": [
    "def successor( player, state ):\n",
    "    children = []\n",
    "    #print('successor', state, 'isTerminal', isTerminal(state) )\n",
    "    if ( not isTerminal( state ) ):\n",
    "        for i in range( len(state) ):\n",
    "            for j in range( len(state[i])):\n",
    "                if ( state[i][j] == EMPTY ):\n",
    "                    # print('found empty',i,j)\n",
    "                    ns = [ [ c for c in r ] for r in state ]\n",
    "                    ns[i][j] = player\n",
    "                    children = children + [ ns ]\n",
    "    return children"
   ]
  },
  {
   "cell_type": "code",
   "execution_count": 42,
   "metadata": {
    "collapsed": true
   },
   "outputs": [],
   "source": [
    "def heuristic( player, state ):\n",
    "    winCount = 0\n",
    "    for i in range( len( state ) ):\n",
    "        for j in range( len( state[0] ) ):\n",
    "            if ( state[i][j] == EMPTY ):\n",
    "                ns = [ [ x for x in row ] for row in state ]\n",
    "                ns[i][j] = player\n",
    "                if ( isWin(player, ns ) ):\n",
    "                    winCount = winCount + 1\n",
    "    return winCount"
   ]
  },
  {
   "cell_type": "code",
   "execution_count": 38,
   "metadata": {
    "collapsed": true
   },
   "outputs": [],
   "source": [
    "def otherPlayer( player ):\n",
    "    if ( player == CROSS ):\n",
    "        other = NOUGHT\n",
    "    elif ( player == NOUGHT ):\n",
    "        other = CROSS\n",
    "    return other\n",
    "\n",
    "def alphaBetaSearch( player, state, alpha = None, beta = None, maxDepth = None, level = 0 ):\n",
    "    tree = [ state, evaluate( state ), None, [] ]\n",
    "    if ( isTerminal( state ) ):\n",
    "        tree[2] = evaluate( state )\n",
    "        return tree\n",
    "    elif ( maxDepth is not None ) and ( level > maxDepth ):\n",
    "        tree[2] = heuristic( player, state )\n",
    "        return tree\n",
    "    else:\n",
    "        children = successor( player, state )\n",
    "        nu = None\n",
    "        if ( player == CROSS ):\n",
    "            for c in children:\n",
    "                childTree = alphaBetaSearch( otherPlayer( player ), c, alpha, beta, maxDepth, level + 1 )\n",
    "                tree[3] = tree[3] + [ childTree ]\n",
    "                if ( nu is None ) or ( childTree[2] > nu ):\n",
    "                    nu = childTree[2]\n",
    "                if ( alpha is None ) or ( nu > alpha ):\n",
    "                    alpha = nu\n",
    "                if ( beta is not None ) and ( alpha is not None) and ( beta <= alpha ):\n",
    "                    break\n",
    "            tree[2] = nu\n",
    "            return tree\n",
    "        elif ( player == NOUGHT ):\n",
    "            for c in children:\n",
    "                childTree = alphaBetaSearch( otherPlayer( player ), c, alpha, beta, maxDepth, level + 1 )\n",
    "                tree[3] = tree[3] + [ childTree ]\n",
    "                if ( nu is None ) or ( childTree[2] < nu ):\n",
    "                    nu = childTree[2]\n",
    "                if (beta is None ) or ( nu < beta ):\n",
    "                    beta = nu\n",
    "                if ( beta is not None ) and ( alpha is not None) and ( beta <= alpha ):\n",
    "                    break\n",
    "            tree[2] = nu\n",
    "            return tree"
   ]
  },
  {
   "cell_type": "code",
   "execution_count": 46,
   "metadata": {
    "collapsed": true
   },
   "outputs": [],
   "source": [
    "def printState( state, level = 0 ):\n",
    "    for i in range( len( state ) ):\n",
    "        print( \" \" * ( level * 2 ), end = \"\" )\n",
    "        for j in range( len( state[i] ) ):\n",
    "            print( state[i][j], end=\"\")\n",
    "        print()\n",
    "        \n",
    "def printTree( tree, level = 0 ):\n",
    "    state, value, h, children = tree\n",
    "    print( \" \" * ( level * 2 ), end = \"\" )\n",
    "    print( \"Eval:\", value, 'Value:', h, 'Heuristic:', heuristic( CROSS, state )  )\n",
    "    printState( state, level )\n",
    "    for c in children:\n",
    "        printTree( c, level + 1 )"
   ]
  },
  {
   "cell_type": "code",
   "execution_count": 47,
   "metadata": {
    "collapsed": true
   },
   "outputs": [],
   "source": [
    "def countNumberOfNodes( tree ):\n",
    "    _,_,_,children = tree\n",
    "    numChildren = 0\n",
    "    for c in children:\n",
    "        numChildren = numChildren + countNumberOfNodes( c )\n",
    "    return 1 + numChildren\n",
    "\n",
    "def countNumberOfLeafNodes( tree ):\n",
    "    _,_,_,children = tree\n",
    "    if ( len(children) == 0 ):\n",
    "        numLeaves = 1\n",
    "    else:\n",
    "        numLeaves = 0\n",
    "        for c in children:\n",
    "            numLeaves = numLeaves + countNumberOfLeafNodes( c )\n",
    "    return numLeaves\n",
    "\n",
    "def countNumberOfChildren( tree ):\n",
    "    _,_,_,children = tree\n",
    "    numChildren = 0\n",
    "    for c in children:\n",
    "        numChildren = numChildren + countNumberOfNodes( c )\n",
    "    return numChildren\n",
    "\n",
    "def calcAverageBranchingFactor( tree ):\n",
    "    return countNumberOfChildren( tree ) / countNumberOfNodes( tree )\n",
    "    \n",
    "def calcDepthCount( tree, level = 0 ):\n",
    "    _,_,_,children = tree\n",
    "    if ( len(children) == 0 ):\n",
    "        depthCount = level\n",
    "    else:\n",
    "        depthCount = 0\n",
    "        for c in children:\n",
    "            depthCount = depthCount + calcDepthCount( c, level + 1 )\n",
    "    return depthCount\n",
    "    \n",
    "def calcAverageDepthOfLeafNodes( tree ):\n",
    "    return calcDepthCount( tree, 0 ) / countNumberOfLeafNodes( tree )\n"
   ]
  },
  {
   "cell_type": "code",
   "execution_count": 48,
   "metadata": {},
   "outputs": [
    {
     "name": "stdout",
     "output_type": "stream",
     "text": [
      "      xxo\n",
      "      _oo\n",
      "      __x\n",
      "[[['x', 'x', 'o'], ['x', 'o', 'o'], ['_', '_', 'x']], [['x', 'x', 'o'], ['_', 'o', 'o'], ['x', '_', 'x']], [['x', 'x', 'o'], ['_', 'o', 'o'], ['_', 'x', 'x']]]\n"
     ]
    }
   ],
   "source": [
    "state = [ [ CROSS, CROSS, NOUGHT ], [ EMPTY, NOUGHT, NOUGHT ],[ EMPTY, EMPTY, CROSS ] ]\n",
    "\n",
    "printState( state, 3 )\n",
    "print( successor( CROSS, state) )"
   ]
  },
  {
   "cell_type": "code",
   "execution_count": 49,
   "metadata": {},
   "outputs": [
    {
     "name": "stdout",
     "output_type": "stream",
     "text": [
      "Eval: None Value: -1 Heuristic: 0\n",
      "xxo\n",
      "_oo\n",
      "__x\n",
      "  Eval: None Value: -1 Heuristic: 1\n",
      "  xxo\n",
      "  xoo\n",
      "  __x\n",
      "    Eval: -1 Value: -1 Heuristic: 0\n",
      "    xxo\n",
      "    xoo\n",
      "    o_x\n",
      "    Eval: None Value: 1 Heuristic: 1\n",
      "    xxo\n",
      "    xoo\n",
      "    _ox\n",
      "      Eval: 1 Value: 1 Heuristic: 0\n",
      "      xxo\n",
      "      xoo\n",
      "      xox\n",
      "  Eval: None Value: -1 Heuristic: 2\n",
      "  xxo\n",
      "  _oo\n",
      "  x_x\n",
      "    Eval: -1 Value: -1 Heuristic: 1\n",
      "    xxo\n",
      "    ooo\n",
      "    x_x\n",
      "  Eval: None Value: -1 Heuristic: 1\n",
      "  xxo\n",
      "  _oo\n",
      "  _xx\n",
      "    Eval: -1 Value: -1 Heuristic: 1\n",
      "    xxo\n",
      "    ooo\n",
      "    _xx\n"
     ]
    }
   ],
   "source": [
    "tree = alphaBetaSearch( CROSS, state )\n",
    "printTree( tree )"
   ]
  },
  {
   "cell_type": "code",
   "execution_count": 50,
   "metadata": {
    "collapsed": true
   },
   "outputs": [],
   "source": [
    "tree = alphaBetaSearch( CROSS, initial )\n"
   ]
  },
  {
   "cell_type": "code",
   "execution_count": 51,
   "metadata": {},
   "outputs": [
    {
     "name": "stdout",
     "output_type": "stream",
     "text": [
      "Number of Nodes 18297 Number of leaf nodes 7330 b 0.9999453462316227 Average depth of leaf nodes 8.08281036834925\n"
     ]
    }
   ],
   "source": [
    "numNodes = countNumberOfNodes( tree )\n",
    "numLeafNodes = countNumberOfLeafNodes( tree )\n",
    "\n",
    "b = calcAverageBranchingFactor( tree )\n",
    "\n",
    "print('Number of Nodes', numNodes, 'Number of leaf nodes', numLeafNodes, 'b', b, 'Average depth of leaf nodes', calcAverageDepthOfLeafNodes( tree ) )\n"
   ]
  },
  {
   "cell_type": "code",
   "execution_count": 52,
   "metadata": {},
   "outputs": [
    {
     "data": {
      "text/plain": [
       "0.03327053928931204"
      ]
     },
     "execution_count": 52,
     "metadata": {},
     "output_type": "execute_result"
    }
   ],
   "source": [
    "18297/549946"
   ]
  },
  {
   "cell_type": "code",
   "execution_count": null,
   "metadata": {
    "collapsed": true
   },
   "outputs": [],
   "source": []
  }
 ],
 "metadata": {
  "kernelspec": {
   "display_name": "Python 3",
   "language": "python",
   "name": "python3"
  },
  "language_info": {
   "codemirror_mode": {
    "name": "ipython",
    "version": 3
   },
   "file_extension": ".py",
   "mimetype": "text/x-python",
   "name": "python",
   "nbconvert_exporter": "python",
   "pygments_lexer": "ipython3",
   "version": "3.6.3"
  }
 },
 "nbformat": 4,
 "nbformat_minor": 2
}
