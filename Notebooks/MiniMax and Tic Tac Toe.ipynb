{
 "cells": [
  {
   "cell_type": "markdown",
   "metadata": {},
   "source": [
    "# Tic Tac Toe\n",
    "\n",
    "Tic Tac Toe is a famous childrens' game also known as noughts and crosses. The game is played by placing x'es (crosses) and 'o's (noughts) on a 3x3 grid playing field.\n",
    "\n",
    "The first player to fill a column, row, or diagonal is the winner.\n",
    "\n",
    "We will implemenent the `MiniMax` algorithm for this game."
   ]
  },
  {
   "cell_type": "markdown",
   "metadata": {},
   "source": [
    "## State Representation\n",
    "\n",
    "I use a simple two-dimensional array as my datastructure. "
   ]
  },
  {
   "cell_type": "markdown",
   "metadata": {},
   "source": [
    "### Initial State\n",
    "\n",
    "The initial state is an empty board."
   ]
  },
  {
   "cell_type": "code",
   "execution_count": 1,
   "metadata": {
    "collapsed": true
   },
   "outputs": [],
   "source": [
    "EMPTY = '_'\n",
    "NOUGHT = 'o'\n",
    "CROSS = 'x'\n",
    "\n",
    "initial = [ [ EMPTY, EMPTY, EMPTY ],\n",
    "            [ EMPTY, EMPTY, EMPTY ],\n",
    "            [ EMPTY, EMPTY, EMPTY ]\n",
    "          ]"
   ]
  },
  {
   "cell_type": "markdown",
   "metadata": {},
   "source": [
    "## Evaluation Function\n",
    "\n",
    "Next I implement a function to evaluate if a game state is terminal and if it resulted in\n",
    "a win, loose, or draw.\n",
    "\n",
    "Instead of only allowing a 3x3 playing field, I also allow generalizations to any rectangular field.\n",
    "\n",
    "We define several utility functions to help in the implementation."
   ]
  },
  {
   "cell_type": "code",
   "execution_count": 40,
   "metadata": {
    "collapsed": true
   },
   "outputs": [],
   "source": [
    "WIN = +1\n",
    "LOOSE = -1\n",
    "DRAW = 0\n",
    "\n",
    "def calcEmpty( state ):\n",
    "    count = 0\n",
    "    for i in range( len(state) ):\n",
    "        for j in range( len(state[i])):\n",
    "            if ( state[i][j] == EMPTY ):\n",
    "                count = count + 1\n",
    "    return count\n",
    "\n",
    "def isComplete( state ):\n",
    "    return calcEmpty(state) == 0\n",
    "\n",
    "def isTerminal( state ):\n",
    "    return ( evaluate( state ) is None )\n",
    "\n",
    "def isWin( player, state ):\n",
    "    width, height = len(state[0]), len( state )\n",
    "    # Check rows\n",
    "    for i in range( height ):\n",
    "        tmp = True\n",
    "        for j in range( width ):\n",
    "            if ( state[i][j] != player ):\n",
    "                tmp = False\n",
    "                break\n",
    "        if ( tmp ):\n",
    "            return True\n",
    "    \n",
    "    # Check columns\n",
    "    for j in range( width ):\n",
    "        tmp = True\n",
    "        for i in range( height ):\n",
    "            if ( state[i][j] != player ):\n",
    "                tmp = False\n",
    "                break\n",
    "        if ( tmp ):\n",
    "            return True\n",
    "        \n",
    "    # Check diagonal\n",
    "    if ( width >= height ):\n",
    "        # 3 rows, 5 columns\n",
    "        limit = height\n",
    "        for offset in range( width - limit + 1):\n",
    "            tmp = True\n",
    "            for d in range( limit ):\n",
    "                if ( state[d][d+offset] != player ):\n",
    "                    tmp = False\n",
    "                    break\n",
    "            if ( tmp ):\n",
    "                return True\n",
    "            tmp = True\n",
    "            for d in range( limit ):\n",
    "                if ( state[height - 1 - d][d+offset] != player ):\n",
    "                    tmp = False\n",
    "                    break\n",
    "            if ( tmp ):\n",
    "                return True\n",
    "    else:\n",
    "        # 5 rows, 3 columns\n",
    "        limit = width\n",
    "        for offset in range( height - limit + 1):\n",
    "            tmp = True\n",
    "            for d in range( limit ):\n",
    "                if ( state[d+offset][d] != player ):\n",
    "                    tmp = False\n",
    "                    break\n",
    "            if ( tmp ):\n",
    "                return True\n",
    "            tmp = True\n",
    "            for d in range( limit ):\n",
    "                if ( state[d+offset][width-1-d] != player ):\n",
    "                    tmp = False\n",
    "                    break\n",
    "            if ( tmp ):\n",
    "                return True\n",
    "    return False\n",
    "\n",
    "def evaluate( state ):\n",
    "    result = None\n",
    "    if ( isWin( CROSS, state ) ):\n",
    "        result = WIN\n",
    "    elif (isWin( NOUGHT, state ) ):\n",
    "        result = LOOSE\n",
    "    elif ( isComplete( state ) ):\n",
    "        result = DRAW\n",
    "    return result"
   ]
  },
  {
   "cell_type": "code",
   "execution_count": 41,
   "metadata": {},
   "outputs": [
    {
     "name": "stdout",
     "output_type": "stream",
     "text": [
      "None\n"
     ]
    }
   ],
   "source": [
    "print( evaluate( [ [ EMPTY, EMPTY, EMPTY ], [ EMPTY, EMPTY, EMPTY ],[ EMPTY, EMPTY, EMPTY ] ] ) )"
   ]
  },
  {
   "cell_type": "code",
   "execution_count": 42,
   "metadata": {},
   "outputs": [
    {
     "name": "stdout",
     "output_type": "stream",
     "text": [
      "1\n"
     ]
    }
   ],
   "source": [
    "print( evaluate( [ [ CROSS, CROSS, CROSS ], [ EMPTY, EMPTY, EMPTY ],[ EMPTY, EMPTY, EMPTY ] ] ) )"
   ]
  },
  {
   "cell_type": "code",
   "execution_count": 43,
   "metadata": {},
   "outputs": [
    {
     "name": "stdout",
     "output_type": "stream",
     "text": [
      "-1\n"
     ]
    }
   ],
   "source": [
    "print( evaluate( [ [ CROSS, CROSS, NOUGHT ], [ EMPTY, NOUGHT, EMPTY ],[ NOUGHT, EMPTY, EMPTY ] ] ) )"
   ]
  },
  {
   "cell_type": "code",
   "execution_count": 44,
   "metadata": {},
   "outputs": [
    {
     "name": "stdout",
     "output_type": "stream",
     "text": [
      "-1\n"
     ]
    }
   ],
   "source": [
    "print( evaluate( [ [ CROSS, CROSS, NOUGHT ], [ EMPTY, NOUGHT, NOUGHT ],[ EMPTY, EMPTY, NOUGHT ] ] ) )"
   ]
  },
  {
   "cell_type": "code",
   "execution_count": 45,
   "metadata": {},
   "outputs": [],
   "source": [
    "def successor( player, state ):\n",
    "    children = []\n",
    "    if ( not isTerminal( state ) ):\n",
    "        for i in range( len(state) ):\n",
    "            for j in range( len(state[i])):\n",
    "                if ( state[i][j] == EMPTY ):\n",
    "                    ns = [ [ c for c in r ] for r in state ]\n",
    "                    ns[i][j] = player\n",
    "                    children = children + [ ns ]\n",
    "    return children"
   ]
  },
  {
   "cell_type": "code",
   "execution_count": 46,
   "metadata": {},
   "outputs": [
    {
     "name": "stdout",
     "output_type": "stream",
     "text": [
      "[]\n"
     ]
    }
   ],
   "source": [
    "print( successor( CROSS, [ [ CROSS, CROSS, NOUGHT ], [ EMPTY, NOUGHT, NOUGHT ],[ EMPTY, EMPTY, NOUGHT ] ])) "
   ]
  },
  {
   "cell_type": "code",
   "execution_count": 47,
   "metadata": {
    "collapsed": true
   },
   "outputs": [],
   "source": [
    "def otherPlayer( player ):\n",
    "    if ( player == CROSS ):\n",
    "        other = NOUGHT\n",
    "    elif ( player == NOUGHT ):\n",
    "        other = CROSS\n",
    "    return other\n",
    "          \n",
    "def minimax( player, root ):\n",
    "    tree = [ root, evaluate( root ), [] ]\n",
    "    children = successor( player, root )\n",
    "    for c in children:\n",
    "        childTree = minimax( otherPlayer( player ), c )\n",
    "        tree[ 2 ] = tree[ 2 ] + [ childTree ]\n",
    "    return tree"
   ]
  },
  {
   "cell_type": "code",
   "execution_count": 48,
   "metadata": {
    "collapsed": true
   },
   "outputs": [],
   "source": [
    "def printState( state, level = 0 ):\n",
    "    for i in range( len( state ) ):\n",
    "        print( \" \" * ( level * 2 ), end = \"\" )\n",
    "        for j in range( len( state[i] ) ):\n",
    "            print( state[i][j], end=\"\")\n",
    "        print()\n",
    "        \n",
    "def printTree( tree, level = 0 ):\n",
    "    state, value, children = tree\n",
    "    print( \" \" * ( level * 2 ), end = \"\" )\n",
    "    print( \"Eval:\", value )\n",
    "    printState( state, level )\n",
    "    for c in children:\n",
    "        printTree( c, level + 1 )"
   ]
  },
  {
   "cell_type": "code",
   "execution_count": 49,
   "metadata": {},
   "outputs": [
    {
     "name": "stdout",
     "output_type": "stream",
     "text": [
      "      xxo\n",
      "      _oo\n",
      "      __x\n"
     ]
    }
   ],
   "source": [
    "state = [ [ CROSS, CROSS, NOUGHT ], [ EMPTY, NOUGHT, NOUGHT ],[ EMPTY, EMPTY, CROSS ] ]\n",
    "\n",
    "printState( state, 3 )\n"
   ]
  },
  {
   "cell_type": "code",
   "execution_count": 50,
   "metadata": {},
   "outputs": [
    {
     "name": "stdout",
     "output_type": "stream",
     "text": [
      "Eval: None\n",
      "xxo\n",
      "_oo\n",
      "__x\n",
      "  Eval: None\n",
      "  xxo\n",
      "  xoo\n",
      "  __x\n",
      "    Eval: -1\n",
      "    xxo\n",
      "    xoo\n",
      "    o_x\n",
      "    Eval: None\n",
      "    xxo\n",
      "    xoo\n",
      "    _ox\n",
      "      Eval: 1\n",
      "      xxo\n",
      "      xoo\n",
      "      xox\n",
      "  Eval: None\n",
      "  xxo\n",
      "  _oo\n",
      "  x_x\n",
      "    Eval: -1\n",
      "    xxo\n",
      "    ooo\n",
      "    x_x\n",
      "    Eval: None\n",
      "    xxo\n",
      "    _oo\n",
      "    xox\n",
      "      Eval: 1\n",
      "      xxo\n",
      "      xoo\n",
      "      xox\n",
      "  Eval: None\n",
      "  xxo\n",
      "  _oo\n",
      "  _xx\n",
      "    Eval: -1\n",
      "    xxo\n",
      "    ooo\n",
      "    _xx\n",
      "    Eval: -1\n",
      "    xxo\n",
      "    _oo\n",
      "    oxx\n"
     ]
    }
   ],
   "source": [
    "tree = minimax( CROSS, state )\n",
    "printTree( tree )"
   ]
  },
  {
   "cell_type": "code",
   "execution_count": null,
   "metadata": {
    "collapsed": true
   },
   "outputs": [],
   "source": []
  }
 ],
 "metadata": {
  "kernelspec": {
   "display_name": "Python 3",
   "language": "python",
   "name": "python3"
  },
  "language_info": {
   "codemirror_mode": {
    "name": "ipython",
    "version": 3
   },
   "file_extension": ".py",
   "mimetype": "text/x-python",
   "name": "python",
   "nbconvert_exporter": "python",
   "pygments_lexer": "ipython3",
   "version": "3.6.3"
  }
 },
 "nbformat": 4,
 "nbformat_minor": 2
}
