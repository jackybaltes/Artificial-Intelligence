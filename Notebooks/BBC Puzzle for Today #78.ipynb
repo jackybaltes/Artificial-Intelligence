{
 "cells": [
  {
   "cell_type": "markdown",
   "metadata": {},
   "source": [
    "# BCC Puzzle for Today Nr. 78\n",
    "\n",
    "This program solves the [BBC Puzzle for Today Nr. 78](http://www.bbc.co.uk/programmes/articles/4GrCLXtfVmYjhSNCvcg6lSp/puzzle-for-today)\n",
    "\n",
    "The problem is to find\n",
    "\n",
    "    1.) The number of Palindrome Times in 24hrs.\n",
    "    2.) The minimum time between any Palindrome times"
   ]
  },
  {
   "cell_type": "markdown",
   "metadata": {},
   "source": [
    "# Datastructure\n",
    "\n",
    "A first analysis of the problem allows us to reason that\n",
    "\n",
    "    1.) A palindrome time is a time such that\n",
    "    \n",
    "        1.1) It has the form AB:CC:BA where A,B,C are digits\n",
    "        \n",
    "        1.2) AB must be between 00 and 23, CC must be between \n",
    "             00 and 60, and BA must be between 00 and 60\n",
    "             \n",
    "We need to represent a triplet of digits, so a list of integers seems like a good choice.\n",
    "\n",
    "So we will represent a palindrome time as a triplet `(A,B,C)` where `A`,`B`,`C` are digits between `0` to `9`."
   ]
  },
  {
   "cell_type": "code",
   "execution_count": 1,
   "metadata": {
    "collapsed": true
   },
   "outputs": [],
   "source": [
    "palindrome_time = (0,0,0)"
   ]
  },
  {
   "cell_type": "markdown",
   "metadata": {},
   "source": [
    "So we will first define a function to create the complete time description from the palindrome time specification.\n",
    "\n",
    "Since the next checks require us to use the *hours* *(A * 10 + B)*, we will return the number of hours, minutes, and seconds."
   ]
  },
  {
   "cell_type": "code",
   "execution_count": 2,
   "metadata": {
    "collapsed": true
   },
   "outputs": [],
   "source": [
    "def createTime( ptime ): # (A,B,C)\n",
    "    times = None\n",
    "    a,b,c = ptime\n",
    "    if ( ( len(ptime) == 3 ) and (a >= 0 ) and (a <= 9 )\n",
    "                             and (b >= 0 ) and (b <= 9 )\n",
    "                             and (c >= 0 ) and (c <= 9 ) ):\n",
    "        if ( a > 0 ):\n",
    "            time1 = ( a*10+b, # AB \n",
    "                  c*10+c, # CC\n",
    "                  b*10+a) # BA\n",
    "        else:\n",
    "            time1 = ( 99, 99, 99 )\n",
    "        time2 = ( a,            # 0A\n",
    "                  b * 10 + c,   # BC\n",
    "                  b*10+a )       # BA\n",
    "    return (time1, time2)"
   ]
  },
  {
   "cell_type": "markdown",
   "metadata": {},
   "source": [
    "We can then test our `createTime` function with some simple calls."
   ]
  },
  {
   "cell_type": "code",
   "execution_count": 3,
   "metadata": {},
   "outputs": [
    {
     "name": "stdout",
     "output_type": "stream",
     "text": [
      "((99, 99, 99), (0, 0, 0))\n",
      "((12, 55, 21), (1, 25, 21))\n",
      "((92, 33, 29), (9, 23, 29))\n"
     ]
    }
   ],
   "source": [
    "print(createTime((0,0,0)))\n",
    "print(createTime((1,2,5)))\n",
    "print(createTime((9,2,3)))"
   ]
  },
  {
   "cell_type": "code",
   "execution_count": 4,
   "metadata": {
    "collapsed": true
   },
   "outputs": [],
   "source": [
    "def checkTime( time ):\n",
    "    hrs, mins, secs = time\n",
    "    result = False\n",
    "    if ( ( hrs >= 0 ) and ( hrs <= 23 ) \n",
    "        and ( mins >= 0 ) and ( mins <= 59 )\n",
    "        and ( secs >= 0 ) and ( secs <= 59 ) ):\n",
    "        result = True\n",
    "    return result"
   ]
  },
  {
   "cell_type": "markdown",
   "metadata": {},
   "source": [
    "We also create a function `printTime`, which prints the time in 24 hr format."
   ]
  },
  {
   "cell_type": "code",
   "execution_count": 5,
   "metadata": {
    "collapsed": true
   },
   "outputs": [],
   "source": [
    "def printTime( time ):\n",
    "    hrs, mins, secs = time\n",
    "    s = \"{0:2d}:{1:02d}:{2:02d}\".format(hrs, mins, secs)\n",
    "    return s"
   ]
  },
  {
   "cell_type": "markdown",
   "metadata": {},
   "source": [
    "Now we can check if the created times are legal or not."
   ]
  },
  {
   "cell_type": "code",
   "execution_count": 6,
   "metadata": {},
   "outputs": [
    {
     "name": "stdout",
     "output_type": "stream",
     "text": [
      "Checking ptime (0, 0, 0) 99:99:99 False\n",
      "Checking ptime (0, 0, 0)  0:00:00 True\n",
      "Checking ptime (1, 2, 5) 12:55:21 True\n",
      "Checking ptime (1, 2, 5)  1:25:21 True\n",
      "Checking ptime (9, 2, 3) 92:33:29 False\n",
      "Checking ptime (9, 2, 3)  9:23:29 True\n"
     ]
    }
   ],
   "source": [
    "for t in [ ( 0,0,0), (1,2,5), (9,2,3) ]:\n",
    "    t1,t2 = createTime(t)\n",
    "    print('Checking ptime', t, printTime(t1), checkTime(t1) )\n",
    "    print('Checking ptime', t, printTime(t2), checkTime(t2) )\n"
   ]
  },
  {
   "cell_type": "markdown",
   "metadata": {},
   "source": [
    "# Generate all possible palindrome times\n",
    "\n",
    "Let us generate all possible palindrome times by enumerating all possible A, B, C."
   ]
  },
  {
   "cell_type": "code",
   "execution_count": 7,
   "metadata": {},
   "outputs": [
    {
     "name": "stdout",
     "output_type": "stream",
     "text": [
      "Number of palindrome times 660\n"
     ]
    }
   ],
   "source": [
    "ptimes = []\n",
    "for a in range(0,10):\n",
    "    for b in range( 0, 10):\n",
    "        for c in range( 0, 10):\n",
    "            t1,t2 = createTime( (a,b,c) )\n",
    "            if (checkTime( t1 ) and (printTime(t1) not in ptimes) ):\n",
    "                ptimes = ptimes + [printTime(t1)]\n",
    "            if (checkTime( t2 ) and (printTime(t2) not in ptimes) ):\n",
    "                ptimes = ptimes + [printTime(t2)]\n",
    "print('Number of palindrome times', len(ptimes))"
   ]
  },
  {
   "cell_type": "markdown",
   "metadata": {},
   "source": [
    "Now let us find the closest time between any two palindrome times.\n",
    "\n",
    "First create a function that calculates the minimum difference between times."
   ]
  },
  {
   "cell_type": "code",
   "execution_count": 8,
   "metadata": {
    "collapsed": true
   },
   "outputs": [],
   "source": [
    "def findMinimumDifference( ptimes ):\n",
    "    mint = 25 * 3600\n",
    "    ctime1 = None\n",
    "    ctime2 = None\n",
    "\n",
    "    for i in range(len(ptimes)):\n",
    "        h1,m1,s1 = ptimes[i]\n",
    "        t1 = h1 * 3600 + m1 * 60 + s1\n",
    "        for j in range( i+1, len(ptimes) ):\n",
    "            h2,m2,s2 = ptimes[j]\n",
    "            t2 = h2 * 3600 + m2 * 60 + s2\n",
    "            difft = t1 - t2\n",
    "            if ( difft < 0 ):\n",
    "                difft = -difft\n",
    "            if ( difft > 12 * 3600 ):\n",
    "                difft = 24 * 3600 - difft\n",
    "            if ( difft < mint ):\n",
    "                mint = difft\n",
    "                ctime1 = ptimes[i]\n",
    "                ctime2 = ptimes[j]\n",
    "    return ( mint, ctime1, ctime2 )\n"
   ]
  },
  {
   "cell_type": "code",
   "execution_count": 9,
   "metadata": {},
   "outputs": [
    {
     "name": "stdout",
     "output_type": "stream",
     "text": [
      "Min. time difference 2 time1 10:00:01 time2  9:59:59\n"
     ]
    }
   ],
   "source": [
    "ptimes = []\n",
    "for a in range(0,10):\n",
    "    for b in range( 0, 10):\n",
    "        for c in range( 0, 10):\n",
    "            t1,t2 = createTime( (a,b,c) )\n",
    "            if (checkTime( t1 ) and (t1 not in ptimes) ):\n",
    "                ptimes = ptimes + [t1]\n",
    "            if ( checkTime( t2 ) and ( t2 not in ptimes) ):\n",
    "                ptimes = ptimes + [t2]\n",
    "\n",
    "mint, ctime1, ctime2 = findMinimumDifference( ptimes )\n",
    "print('Min. time difference', mint, 'time1', printTime(ctime1), 'time2', printTime(ctime2 ))\n",
    "\n"
   ]
  },
  {
   "cell_type": "markdown",
   "metadata": {},
   "source": [
    "# Extension: Palindrome times made up of unique digits\n",
    "\n",
    "Let us now only consider palindrome times that are made up of unique digits a,b,c."
   ]
  },
  {
   "cell_type": "code",
   "execution_count": 10,
   "metadata": {},
   "outputs": [
    {
     "name": "stdout",
     "output_type": "stream",
     "text": [
      "Number of palindrome times with unique digits 464\n",
      "Min. time difference 60 time1  0:12:10 time2  0:13:10\n"
     ]
    }
   ],
   "source": [
    "ptimes = []\n",
    "for a in range(0,10):\n",
    "    for b in range( 0, 10):\n",
    "        for c in range( 0, 10):\n",
    "            if ( a != b ) and ( a != c ) and ( b != c ):\n",
    "                t1,t2 = createTime( (a,b,c) )\n",
    "                if (checkTime( t1 ) and (t1 not in ptimes) ):\n",
    "                    ptimes = ptimes + [t1]\n",
    "                if ( checkTime( t2 ) and ( t2 not in ptimes) ):\n",
    "                    ptimes = ptimes + [t2]\n",
    "\n",
    "mint, ctime1, ctime2 = findMinimumDifference( ptimes )\n",
    "print('Number of palindrome times with unique digits', len(ptimes) )\n",
    "print('Min. time difference', mint, 'time1', printTime(ctime1), 'time2', printTime(ctime2 ))\n"
   ]
  },
  {
   "cell_type": "code",
   "execution_count": null,
   "metadata": {
    "collapsed": true
   },
   "outputs": [],
   "source": []
  }
 ],
 "metadata": {
  "kernelspec": {
   "display_name": "Python 3",
   "language": "python",
   "name": "python3"
  },
  "language_info": {
   "codemirror_mode": {
    "name": "ipython",
    "version": 3
   },
   "file_extension": ".py",
   "mimetype": "text/x-python",
   "name": "python",
   "nbconvert_exporter": "python",
   "pygments_lexer": "ipython3",
   "version": "3.6.3"
  }
 },
 "nbformat": 4,
 "nbformat_minor": 2
}
